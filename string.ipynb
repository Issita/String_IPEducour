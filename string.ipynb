{
 "cells": [
  {
   "cell_type": "code",
   "execution_count": 1,
   "id": "7b50128b-e819-4ff2-9031-c1654aeaf643",
   "metadata": {},
   "outputs": [],
   "source": [
    "s = \"ipeducour\""
   ]
  },
  {
   "cell_type": "code",
   "execution_count": 2,
   "id": "2a6de7e2-33a9-4a1b-92a4-7655f95cc6af",
   "metadata": {},
   "outputs": [
    {
     "data": {
      "text/plain": [
       "str"
      ]
     },
     "execution_count": 2,
     "metadata": {},
     "output_type": "execute_result"
    }
   ],
   "source": [
    "type(s)"
   ]
  },
  {
   "cell_type": "code",
   "execution_count": 3,
   "id": "c55ac3d7-b137-43ad-99d6-6f08771f6116",
   "metadata": {},
   "outputs": [
    {
     "data": {
      "text/plain": [
       "'i'"
      ]
     },
     "execution_count": 3,
     "metadata": {},
     "output_type": "execute_result"
    }
   ],
   "source": [
    "s[0]"
   ]
  },
  {
   "cell_type": "code",
   "execution_count": 4,
   "id": "7e4c6aec-d922-467d-87a2-bd0742556b42",
   "metadata": {},
   "outputs": [
    {
     "data": {
      "text/plain": [
       "'p'"
      ]
     },
     "execution_count": 4,
     "metadata": {},
     "output_type": "execute_result"
    }
   ],
   "source": [
    "s[1]"
   ]
  },
  {
   "cell_type": "code",
   "execution_count": 5,
   "id": "a3eb5827-4fd8-4fec-8029-173c60f9375a",
   "metadata": {},
   "outputs": [
    {
     "data": {
      "text/plain": [
       "'r'"
      ]
     },
     "execution_count": 5,
     "metadata": {},
     "output_type": "execute_result"
    }
   ],
   "source": [
    "s[-1]"
   ]
  },
  {
   "cell_type": "code",
   "execution_count": 6,
   "id": "ace1304b-e7a5-4d8a-afa2-11841a418069",
   "metadata": {},
   "outputs": [
    {
     "data": {
      "text/plain": [
       "'c'"
      ]
     },
     "execution_count": 6,
     "metadata": {},
     "output_type": "execute_result"
    }
   ],
   "source": [
    "s[-4]"
   ]
  },
  {
   "cell_type": "code",
   "execution_count": 7,
   "id": "38409c1a-2715-4983-a0df-ed31bd05433b",
   "metadata": {},
   "outputs": [
    {
     "data": {
      "text/plain": [
       "'ipe'"
      ]
     },
     "execution_count": 7,
     "metadata": {},
     "output_type": "execute_result"
    }
   ],
   "source": [
    "s[0:3]"
   ]
  },
  {
   "cell_type": "code",
   "execution_count": 8,
   "id": "a2b6722e-f2ca-4d22-a7c6-8660f476d17f",
   "metadata": {},
   "outputs": [
    {
     "data": {
      "text/plain": [
       "'iped'"
      ]
     },
     "execution_count": 8,
     "metadata": {},
     "output_type": "execute_result"
    }
   ],
   "source": [
    "s[0:4]"
   ]
  },
  {
   "cell_type": "code",
   "execution_count": 10,
   "id": "279124d3-befd-434c-838c-5cf173febd1d",
   "metadata": {},
   "outputs": [
    {
     "data": {
      "text/plain": [
       "'ieuor'"
      ]
     },
     "execution_count": 10,
     "metadata": {},
     "output_type": "execute_result"
    }
   ],
   "source": [
    "s[0:9:2]"
   ]
  },
  {
   "cell_type": "code",
   "execution_count": 11,
   "id": "817bf353-63ec-4b62-b503-b3e7f0c0325d",
   "metadata": {},
   "outputs": [
    {
     "data": {
      "text/plain": [
       "'ipeducour'"
      ]
     },
     "execution_count": 11,
     "metadata": {},
     "output_type": "execute_result"
    }
   ],
   "source": [
    "s[0:9:1]"
   ]
  },
  {
   "cell_type": "code",
   "execution_count": 12,
   "id": "5a3db1ee-d18d-485b-91cb-0dd9fb65839c",
   "metadata": {},
   "outputs": [
    {
     "data": {
      "text/plain": [
       "'ieuor'"
      ]
     },
     "execution_count": 12,
     "metadata": {},
     "output_type": "execute_result"
    }
   ],
   "source": [
    "s[::2]"
   ]
  },
  {
   "cell_type": "code",
   "execution_count": 13,
   "id": "45d422e3-052a-4c0a-b32f-91cb3058d4c8",
   "metadata": {},
   "outputs": [
    {
     "data": {
      "text/plain": [
       "'euor'"
      ]
     },
     "execution_count": 13,
     "metadata": {},
     "output_type": "execute_result"
    }
   ],
   "source": [
    "s[2::2]"
   ]
  },
  {
   "cell_type": "code",
   "execution_count": 14,
   "id": "6e0fe9d8-132a-4248-a99c-03886534760f",
   "metadata": {},
   "outputs": [
    {
     "ename": "ValueError",
     "evalue": "slice step cannot be zero",
     "output_type": "error",
     "traceback": [
      "\u001b[0;31m---------------------------------------------------------------------------\u001b[0m",
      "\u001b[0;31mValueError\u001b[0m                                Traceback (most recent call last)",
      "Cell \u001b[0;32mIn[14], line 1\u001b[0m\n\u001b[0;32m----> 1\u001b[0m \u001b[43ms\u001b[49m\u001b[43m[\u001b[49m\u001b[38;5;241;43m2\u001b[39;49m\u001b[43m:\u001b[49m\u001b[43m:\u001b[49m\u001b[38;5;241;43m0\u001b[39;49m\u001b[43m]\u001b[49m\n",
      "\u001b[0;31mValueError\u001b[0m: slice step cannot be zero"
     ]
    }
   ],
   "source": [
    "s[2::0]"
   ]
  },
  {
   "cell_type": "code",
   "execution_count": 15,
   "id": "6d1044e9-5ccf-4d7b-84a3-17e6d2c961e9",
   "metadata": {},
   "outputs": [
    {
     "data": {
      "text/plain": [
       "'ipeducour'"
      ]
     },
     "execution_count": 15,
     "metadata": {},
     "output_type": "execute_result"
    }
   ],
   "source": [
    "s[0:9]"
   ]
  },
  {
   "cell_type": "code",
   "execution_count": 16,
   "id": "e2ec0a7e-6c47-4137-8139-17b46e41c333",
   "metadata": {},
   "outputs": [
    {
     "data": {
      "text/plain": [
       "'ruocudepi'"
      ]
     },
     "execution_count": 16,
     "metadata": {},
     "output_type": "execute_result"
    }
   ],
   "source": [
    "s[::-1]"
   ]
  },
  {
   "cell_type": "code",
   "execution_count": 17,
   "id": "5daecc03-27a5-4fea-8e4b-f14a9c88dfdc",
   "metadata": {},
   "outputs": [
    {
     "data": {
      "text/plain": [
       "''"
      ]
     },
     "execution_count": 17,
     "metadata": {},
     "output_type": "execute_result"
    }
   ],
   "source": [
    "s[2:8:-1]"
   ]
  },
  {
   "cell_type": "code",
   "execution_count": 18,
   "id": "3dc510d2-af20-4762-bf8e-53354c5a0109",
   "metadata": {},
   "outputs": [
    {
     "data": {
      "text/plain": [
       "''"
      ]
     },
     "execution_count": 18,
     "metadata": {},
     "output_type": "execute_result"
    }
   ],
   "source": [
    "s[8:0]"
   ]
  },
  {
   "cell_type": "code",
   "execution_count": 19,
   "id": "09b73315-8624-42d6-9a79-ff3f8e67b80a",
   "metadata": {},
   "outputs": [
    {
     "data": {
      "text/plain": [
       "'ocudep'"
      ]
     },
     "execution_count": 19,
     "metadata": {},
     "output_type": "execute_result"
    }
   ],
   "source": [
    "s[6:0:-1]"
   ]
  },
  {
   "cell_type": "code",
   "execution_count": 20,
   "id": "8ec41f0d-9e11-49e1-a681-226eb75f4e5e",
   "metadata": {},
   "outputs": [
    {
     "data": {
      "text/plain": [
       "'ipeducour'"
      ]
     },
     "execution_count": 20,
     "metadata": {},
     "output_type": "execute_result"
    }
   ],
   "source": [
    "s[:90:]"
   ]
  },
  {
   "cell_type": "code",
   "execution_count": 21,
   "id": "e588dc13-7f77-4ff2-a3ba-ef39974e04b2",
   "metadata": {},
   "outputs": [
    {
     "ename": "IndexError",
     "evalue": "string index out of range",
     "output_type": "error",
     "traceback": [
      "\u001b[0;31m---------------------------------------------------------------------------\u001b[0m",
      "\u001b[0;31mIndexError\u001b[0m                                Traceback (most recent call last)",
      "Cell \u001b[0;32mIn[21], line 1\u001b[0m\n\u001b[0;32m----> 1\u001b[0m \u001b[43ms\u001b[49m\u001b[43m[\u001b[49m\u001b[38;5;241;43m90\u001b[39;49m\u001b[43m]\u001b[49m\n",
      "\u001b[0;31mIndexError\u001b[0m: string index out of range"
     ]
    }
   ],
   "source": [
    "s[90]"
   ]
  },
  {
   "cell_type": "code",
   "execution_count": 22,
   "id": "8dc75e31-4341-405e-b631-e6543881eade",
   "metadata": {},
   "outputs": [],
   "source": [
    "c = 500"
   ]
  },
  {
   "cell_type": "code",
   "execution_count": 23,
   "id": "20246d23-a79f-485b-bc30-7879d38035da",
   "metadata": {},
   "outputs": [],
   "source": [
    "s1 = \"This is my class\""
   ]
  },
  {
   "cell_type": "code",
   "execution_count": 24,
   "id": "2fc80765-11a6-41df-93b1-df823e1bc841",
   "metadata": {},
   "outputs": [
    {
     "data": {
      "text/plain": [
       "16"
      ]
     },
     "execution_count": 24,
     "metadata": {},
     "output_type": "execute_result"
    }
   ],
   "source": [
    "len(s1)"
   ]
  },
  {
   "cell_type": "code",
   "execution_count": 25,
   "id": "f6aac18b-73e1-4c7f-b3dd-68fdc44c9e1b",
   "metadata": {},
   "outputs": [
    {
     "data": {
      "text/plain": [
       "3"
      ]
     },
     "execution_count": 25,
     "metadata": {},
     "output_type": "execute_result"
    }
   ],
   "source": [
    "s1.find(\"s\")"
   ]
  },
  {
   "cell_type": "code",
   "execution_count": 26,
   "id": "49d43e36-6a49-4d81-b25c-0f6186f08e5c",
   "metadata": {},
   "outputs": [
    {
     "data": {
      "text/plain": [
       "2"
      ]
     },
     "execution_count": 26,
     "metadata": {},
     "output_type": "execute_result"
    }
   ],
   "source": [
    "s1.find(\"is\")"
   ]
  },
  {
   "cell_type": "code",
   "execution_count": 27,
   "id": "81ed1096-1ed7-4065-9bde-7c1ba5ede6ee",
   "metadata": {},
   "outputs": [
    {
     "data": {
      "text/plain": [
       "-1"
      ]
     },
     "execution_count": 27,
     "metadata": {},
     "output_type": "execute_result"
    }
   ],
   "source": [
    "s1.find(\"iS\")"
   ]
  },
  {
   "cell_type": "code",
   "execution_count": 28,
   "id": "c34d8e32-37e2-4a45-9976-8d37cfd4fcf3",
   "metadata": {},
   "outputs": [
    {
     "data": {
      "text/plain": [
       "2"
      ]
     },
     "execution_count": 28,
     "metadata": {},
     "output_type": "execute_result"
    }
   ],
   "source": [
    "s1.count(\"i\")"
   ]
  },
  {
   "cell_type": "code",
   "execution_count": 29,
   "id": "fca505df-2ef7-4516-ab35-a2c0c10cee71",
   "metadata": {},
   "outputs": [
    {
     "data": {
      "text/plain": [
       "0"
      ]
     },
     "execution_count": 29,
     "metadata": {},
     "output_type": "execute_result"
    }
   ],
   "source": [
    "s1.count(\"p\")"
   ]
  },
  {
   "cell_type": "code",
   "execution_count": 30,
   "id": "1374a828-dded-43bf-927b-50c8bcff81d2",
   "metadata": {},
   "outputs": [
    {
     "data": {
      "text/plain": [
       "'THIS IS MY CLASS'"
      ]
     },
     "execution_count": 30,
     "metadata": {},
     "output_type": "execute_result"
    }
   ],
   "source": [
    "s1.upper()"
   ]
  },
  {
   "cell_type": "code",
   "execution_count": 32,
   "id": "1bf57a4a-6a58-45b2-a930-efa9369faa11",
   "metadata": {},
   "outputs": [],
   "source": [
    "s2 = \"THIS IS MY CLASS\""
   ]
  },
  {
   "cell_type": "code",
   "execution_count": 33,
   "id": "23d9339f-e319-4382-a35c-e754625eb1e3",
   "metadata": {},
   "outputs": [
    {
     "data": {
      "text/plain": [
       "'this is my class'"
      ]
     },
     "execution_count": 33,
     "metadata": {},
     "output_type": "execute_result"
    }
   ],
   "source": [
    "s2.lower()"
   ]
  },
  {
   "cell_type": "code",
   "execution_count": 34,
   "id": "9cfe97af-332b-48c7-9833-8ce8dd78b423",
   "metadata": {},
   "outputs": [
    {
     "data": {
      "text/plain": [
       "'This Is My Class'"
      ]
     },
     "execution_count": 34,
     "metadata": {},
     "output_type": "execute_result"
    }
   ],
   "source": [
    "s2.title()"
   ]
  },
  {
   "cell_type": "code",
   "execution_count": 35,
   "id": "d72cd9de-e220-4725-9cc3-d1714544b2a8",
   "metadata": {},
   "outputs": [
    {
     "data": {
      "text/plain": [
       "'This is my class'"
      ]
     },
     "execution_count": 35,
     "metadata": {},
     "output_type": "execute_result"
    }
   ],
   "source": [
    "s2.capitalize()"
   ]
  },
  {
   "cell_type": "code",
   "execution_count": 36,
   "id": "7dbb1e35-2894-49c7-b929-58825eca9527",
   "metadata": {},
   "outputs": [
    {
     "data": {
      "text/plain": [
       "'ipeducour'"
      ]
     },
     "execution_count": 36,
     "metadata": {},
     "output_type": "execute_result"
    }
   ],
   "source": [
    "s"
   ]
  },
  {
   "cell_type": "code",
   "execution_count": 37,
   "id": "9c88b853-6291-4b20-9d85-ff92191e2c3e",
   "metadata": {},
   "outputs": [
    {
     "ename": "TypeError",
     "evalue": "can only concatenate str (not \"int\") to str",
     "output_type": "error",
     "traceback": [
      "\u001b[0;31m---------------------------------------------------------------------------\u001b[0m",
      "\u001b[0;31mTypeError\u001b[0m                                 Traceback (most recent call last)",
      "Cell \u001b[0;32mIn[37], line 1\u001b[0m\n\u001b[0;32m----> 1\u001b[0m \u001b[43ms\u001b[49m\u001b[43m \u001b[49m\u001b[38;5;241;43m+\u001b[39;49m\u001b[43m \u001b[49m\u001b[38;5;241;43m1\u001b[39;49m\n",
      "\u001b[0;31mTypeError\u001b[0m: can only concatenate str (not \"int\") to str"
     ]
    }
   ],
   "source": [
    "s + 1"
   ]
  },
  {
   "cell_type": "code",
   "execution_count": 38,
   "id": "29c6174e-6259-4a89-99d1-c3c8d160141d",
   "metadata": {},
   "outputs": [
    {
     "data": {
      "text/plain": [
       "'ipeducour1'"
      ]
     },
     "execution_count": 38,
     "metadata": {},
     "output_type": "execute_result"
    }
   ],
   "source": [
    "s + \"1\""
   ]
  },
  {
   "cell_type": "code",
   "execution_count": 39,
   "id": "7d9730ac-18f4-4a6a-99c9-10bf84e0bb15",
   "metadata": {},
   "outputs": [
    {
     "data": {
      "text/plain": [
       "'ipeducour1'"
      ]
     },
     "execution_count": 39,
     "metadata": {},
     "output_type": "execute_result"
    }
   ],
   "source": [
    "s + str(1)"
   ]
  },
  {
   "cell_type": "code",
   "execution_count": 40,
   "id": "474d1a70-9dde-44e3-93d9-ff22ba232a6d",
   "metadata": {},
   "outputs": [
    {
     "data": {
      "text/plain": [
       "'ipeducouripeducouripeducour'"
      ]
     },
     "execution_count": 40,
     "metadata": {},
     "output_type": "execute_result"
    }
   ],
   "source": [
    "s * 3"
   ]
  },
  {
   "cell_type": "code",
   "execution_count": 41,
   "id": "76e1c11a-be6e-4a40-a50d-02ba13b3e0f9",
   "metadata": {},
   "outputs": [
    {
     "ename": "TypeError",
     "evalue": "unsupported operand type(s) for /: 'str' and 'int'",
     "output_type": "error",
     "traceback": [
      "\u001b[0;31m---------------------------------------------------------------------------\u001b[0m",
      "\u001b[0;31mTypeError\u001b[0m                                 Traceback (most recent call last)",
      "Cell \u001b[0;32mIn[41], line 1\u001b[0m\n\u001b[0;32m----> 1\u001b[0m \u001b[43ms\u001b[49m\u001b[43m \u001b[49m\u001b[38;5;241;43m/\u001b[39;49m\u001b[43m \u001b[49m\u001b[38;5;241;43m4\u001b[39;49m\n",
      "\u001b[0;31mTypeError\u001b[0m: unsupported operand type(s) for /: 'str' and 'int'"
     ]
    }
   ],
   "source": [
    "s / 4"
   ]
  },
  {
   "cell_type": "code",
   "execution_count": 42,
   "id": "70f89983-5aa6-4dad-b176-c2fb551c1563",
   "metadata": {},
   "outputs": [
    {
     "ename": "SyntaxError",
     "evalue": "unterminated string literal (detected at line 1) (2993074860.py, line 1)",
     "output_type": "error",
     "traceback": [
      "\u001b[0;36m  Cell \u001b[0;32mIn[42], line 1\u001b[0;36m\u001b[0m\n\u001b[0;31m    'don't do other things while watching this video'\u001b[0m\n\u001b[0m                                                    ^\u001b[0m\n\u001b[0;31mSyntaxError\u001b[0m\u001b[0;31m:\u001b[0m unterminated string literal (detected at line 1)\n"
     ]
    }
   ],
   "source": [
    "'don't do other things while watching this video'"
   ]
  },
  {
   "cell_type": "code",
   "execution_count": 44,
   "id": "fd0506e1-c66d-4bab-84bf-6ff19bfe3150",
   "metadata": {},
   "outputs": [
    {
     "data": {
      "text/plain": [
       "'don\"t do other things while watching this video'"
      ]
     },
     "execution_count": 44,
     "metadata": {},
     "output_type": "execute_result"
    }
   ],
   "source": [
    "'don\"t do other things while watching this video'"
   ]
  },
  {
   "cell_type": "code",
   "execution_count": 45,
   "id": "13aaf13a-998b-4bfc-9111-bf87663f8319",
   "metadata": {},
   "outputs": [
    {
     "ename": "SyntaxError",
     "evalue": "invalid syntax (1831461186.py, line 1)",
     "output_type": "error",
     "traceback": [
      "\u001b[0;36m  Cell \u001b[0;32mIn[45], line 1\u001b[0;36m\u001b[0m\n\u001b[0;31m    This is my first class for programming\u001b[0m\n\u001b[0m               ^\u001b[0m\n\u001b[0;31mSyntaxError\u001b[0m\u001b[0;31m:\u001b[0m invalid syntax\n"
     ]
    }
   ],
   "source": [
    "#This is my first class for programming"
   ]
  },
  {
   "cell_type": "code",
   "execution_count": 47,
   "id": "f8e2f768-9852-44c8-bf15-57cd861a40a6",
   "metadata": {},
   "outputs": [],
   "source": [
    "#Google LLC is an American multinational technology company focusing on artificial intelligence, \n",
    "#online advertising, search engine technology, cloud computing, computer software, \n",
    "#quantum computing, e-commerce, and consumer electronics."
   ]
  },
  {
   "cell_type": "code",
   "execution_count": null,
   "id": "f67ce44c-3fe3-4e1b-ba81-4a40e28bcc90",
   "metadata": {},
   "outputs": [],
   "source": []
  }
 ],
 "metadata": {
  "kernelspec": {
   "display_name": "Python 3 (ipykernel)",
   "language": "python",
   "name": "python3"
  },
  "language_info": {
   "codemirror_mode": {
    "name": "ipython",
    "version": 3
   },
   "file_extension": ".py",
   "mimetype": "text/x-python",
   "name": "python",
   "nbconvert_exporter": "python",
   "pygments_lexer": "ipython3",
   "version": "3.10.8"
  }
 },
 "nbformat": 4,
 "nbformat_minor": 5
}
